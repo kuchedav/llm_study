{
 "cells": [
  {
   "cell_type": "markdown",
   "metadata": {},
   "source": [
    "---\n",
    "# Google Drive\n",
    "\n",
    "Manual: https://python.langchain.com/docs/modules/data_connection/document_loaders/integrations/google_drive"
   ]
  },
  {
   "cell_type": "code",
   "execution_count": 5,
   "metadata": {},
   "outputs": [],
   "source": [
    "from langchain.document_loaders import GoogleDriveLoader\n",
    "from langchain.document_loaders import UnstructuredFileIOLoader\n",
    "from pathlib import Path"
   ]
  },
  {
   "cell_type": "code",
   "execution_count": 9,
   "metadata": {},
   "outputs": [],
   "source": [
    "folder_id = \"1KKCZgDYRNqLD-CYotYSfqxaSBb3QPJfB\"\n",
    "loader = GoogleDriveLoader(\n",
    "    folder_id=folder_id,\n",
    "    file_loader_cls=UnstructuredFileIOLoader,\n",
    "    file_loader_kwargs={\"mode\": \"elements\"},\n",
    "    service_account_key=Path(\"/Users/davidkuchelmeister/Documents/projects_coding/llm/original-frame-289508-7b253fd94c34.json\"),\n",
    ")"
   ]
  },
  {
   "cell_type": "code",
   "execution_count": 10,
   "metadata": {},
   "outputs": [],
   "source": [
    "docs = loader.load()"
   ]
  },
  {
   "cell_type": "code",
   "execution_count": 17,
   "metadata": {},
   "outputs": [
    {
     "ename": "HttpError",
     "evalue": "<HttpError 404 when requesting https://www.googleapis.com/drive/v3/files/1evZdMhMwWGfgXiKHXFXytvOCE4PwSZZBt3XSGSIh?supportsAllDrives=true&alt=json returned \"File not found: 1evZdMhMwWGfgXiKHXFXytvOCE4PwSZZBt3XSGSIh.\". Details: \"[{'message': 'File not found: 1evZdMhMwWGfgXiKHXFXytvOCE4PwSZZBt3XSGSIh.', 'domain': 'global', 'reason': 'notFound', 'location': 'fileId', 'locationType': 'parameter'}]\">",
     "output_type": "error",
     "traceback": [
      "\u001b[0;31m---------------------------------------------------------------------------\u001b[0m",
      "\u001b[0;31mHttpError\u001b[0m                                 Traceback (most recent call last)",
      "Cell \u001b[0;32mIn[17], line 11\u001b[0m\n\u001b[1;32m      4\u001b[0m file_id \u001b[39m=\u001b[39m \u001b[39m\"\u001b[39m\u001b[39m1evZdMhMwWGfgXiKHXFXytvOCE4PwSZZBt3XSGSIh\u001b[39m\u001b[39m\"\u001b[39m\n\u001b[1;32m      5\u001b[0m loader \u001b[39m=\u001b[39m GoogleDriveLoader(\n\u001b[1;32m      6\u001b[0m     file_ids\u001b[39m=\u001b[39m[file_id],\n\u001b[1;32m      7\u001b[0m     file_loader_cls\u001b[39m=\u001b[39mUnstructuredFileIOLoader,\n\u001b[1;32m      8\u001b[0m     file_loader_kwargs\u001b[39m=\u001b[39m{\u001b[39m\"\u001b[39m\u001b[39mmode\u001b[39m\u001b[39m\"\u001b[39m: \u001b[39m\"\u001b[39m\u001b[39melements\u001b[39m\u001b[39m\"\u001b[39m},\n\u001b[1;32m      9\u001b[0m     service_account_key\u001b[39m=\u001b[39mPath(\u001b[39m\"\u001b[39m\u001b[39m/Users/davidkuchelmeister/Documents/projects_coding/llm/original-frame-289508-7b253fd94c34.json\u001b[39m\u001b[39m\"\u001b[39m),\n\u001b[1;32m     10\u001b[0m )\n\u001b[0;32m---> 11\u001b[0m docs \u001b[39m=\u001b[39m loader\u001b[39m.\u001b[39;49mload()\n",
      "File \u001b[0;32m~/Documents/projects_coding/llm/env/lib/python3.9/site-packages/langchain/document_loaders/googledrive.py:353\u001b[0m, in \u001b[0;36mGoogleDriveLoader.load\u001b[0;34m(self)\u001b[0m\n\u001b[1;32m    351\u001b[0m     \u001b[39mreturn\u001b[39;00m \u001b[39mself\u001b[39m\u001b[39m.\u001b[39m_load_documents_from_ids()\n\u001b[1;32m    352\u001b[0m \u001b[39melse\u001b[39;00m:\n\u001b[0;32m--> 353\u001b[0m     \u001b[39mreturn\u001b[39;00m \u001b[39mself\u001b[39;49m\u001b[39m.\u001b[39;49m_load_file_from_ids()\n",
      "File \u001b[0;32m~/Documents/projects_coding/llm/env/lib/python3.9/site-packages/langchain/document_loaders/googledrive.py:341\u001b[0m, in \u001b[0;36mGoogleDriveLoader._load_file_from_ids\u001b[0;34m(self)\u001b[0m\n\u001b[1;32m    339\u001b[0m docs \u001b[39m=\u001b[39m []\n\u001b[1;32m    340\u001b[0m \u001b[39mfor\u001b[39;00m file_id \u001b[39min\u001b[39;00m \u001b[39mself\u001b[39m\u001b[39m.\u001b[39mfile_ids:\n\u001b[0;32m--> 341\u001b[0m     docs\u001b[39m.\u001b[39mextend(\u001b[39mself\u001b[39;49m\u001b[39m.\u001b[39;49m_load_file_from_id(file_id))\n\u001b[1;32m    342\u001b[0m \u001b[39mreturn\u001b[39;00m docs\n",
      "File \u001b[0;32m~/Documents/projects_coding/llm/env/lib/python3.9/site-packages/langchain/document_loaders/googledrive.py:301\u001b[0m, in \u001b[0;36mGoogleDriveLoader._load_file_from_id\u001b[0;34m(self, id)\u001b[0m\n\u001b[1;32m    298\u001b[0m creds \u001b[39m=\u001b[39m \u001b[39mself\u001b[39m\u001b[39m.\u001b[39m_load_credentials()\n\u001b[1;32m    299\u001b[0m service \u001b[39m=\u001b[39m build(\u001b[39m\"\u001b[39m\u001b[39mdrive\u001b[39m\u001b[39m\"\u001b[39m, \u001b[39m\"\u001b[39m\u001b[39mv3\u001b[39m\u001b[39m\"\u001b[39m, credentials\u001b[39m=\u001b[39mcreds)\n\u001b[0;32m--> 301\u001b[0m file \u001b[39m=\u001b[39m service\u001b[39m.\u001b[39;49mfiles()\u001b[39m.\u001b[39;49mget(fileId\u001b[39m=\u001b[39;49m\u001b[39mid\u001b[39;49m, supportsAllDrives\u001b[39m=\u001b[39;49m\u001b[39mTrue\u001b[39;49;00m)\u001b[39m.\u001b[39;49mexecute()\n\u001b[1;32m    302\u001b[0m request \u001b[39m=\u001b[39m service\u001b[39m.\u001b[39mfiles()\u001b[39m.\u001b[39mget_media(fileId\u001b[39m=\u001b[39m\u001b[39mid\u001b[39m)\n\u001b[1;32m    303\u001b[0m fh \u001b[39m=\u001b[39m BytesIO()\n",
      "File \u001b[0;32m~/Documents/projects_coding/llm/env/lib/python3.9/site-packages/googleapiclient/_helpers.py:130\u001b[0m, in \u001b[0;36mpositional.<locals>.positional_decorator.<locals>.positional_wrapper\u001b[0;34m(*args, **kwargs)\u001b[0m\n\u001b[1;32m    128\u001b[0m     \u001b[39melif\u001b[39;00m positional_parameters_enforcement \u001b[39m==\u001b[39m POSITIONAL_WARNING:\n\u001b[1;32m    129\u001b[0m         logger\u001b[39m.\u001b[39mwarning(message)\n\u001b[0;32m--> 130\u001b[0m \u001b[39mreturn\u001b[39;00m wrapped(\u001b[39m*\u001b[39;49margs, \u001b[39m*\u001b[39;49m\u001b[39m*\u001b[39;49mkwargs)\n",
      "File \u001b[0;32m~/Documents/projects_coding/llm/env/lib/python3.9/site-packages/googleapiclient/http.py:938\u001b[0m, in \u001b[0;36mHttpRequest.execute\u001b[0;34m(self, http, num_retries)\u001b[0m\n\u001b[1;32m    936\u001b[0m     callback(resp)\n\u001b[1;32m    937\u001b[0m \u001b[39mif\u001b[39;00m resp\u001b[39m.\u001b[39mstatus \u001b[39m>\u001b[39m\u001b[39m=\u001b[39m \u001b[39m300\u001b[39m:\n\u001b[0;32m--> 938\u001b[0m     \u001b[39mraise\u001b[39;00m HttpError(resp, content, uri\u001b[39m=\u001b[39m\u001b[39mself\u001b[39m\u001b[39m.\u001b[39muri)\n\u001b[1;32m    939\u001b[0m \u001b[39mreturn\u001b[39;00m \u001b[39mself\u001b[39m\u001b[39m.\u001b[39mpostproc(resp, content)\n",
      "\u001b[0;31mHttpError\u001b[0m: <HttpError 404 when requesting https://www.googleapis.com/drive/v3/files/1evZdMhMwWGfgXiKHXFXytvOCE4PwSZZBt3XSGSIh?supportsAllDrives=true&alt=json returned \"File not found: 1evZdMhMwWGfgXiKHXFXytvOCE4PwSZZBt3XSGSIh.\". Details: \"[{'message': 'File not found: 1evZdMhMwWGfgXiKHXFXytvOCE4PwSZZBt3XSGSIh.', 'domain': 'global', 'reason': 'notFound', 'location': 'fileId', 'locationType': 'parameter'}]\">"
     ]
    }
   ],
   "source": [
    "from langchain.document_loaders import GoogleDriveLoader\n",
    "from langchain.document_loaders import UnstructuredFileIOLoader\n",
    "\n",
    "file_id = \"1evZdMhMwWGfgXiKHXFXytvOCE4PwSZZBt3XSGSIh\"\n",
    "loader = GoogleDriveLoader(\n",
    "    file_ids=[file_id],\n",
    "    file_loader_cls=UnstructuredFileIOLoader,\n",
    "    file_loader_kwargs={\"mode\": \"elements\"},\n",
    "    service_account_key=Path(\"/Users/davidkuchelmeister/Documents/projects_coding/llm/original-frame-289508-7b253fd94c34.json\"),\n",
    ")\n"
   ]
  },
  {
   "cell_type": "code",
   "execution_count": 15,
   "metadata": {},
   "outputs": [
    {
     "ename": "HttpError",
     "evalue": "<HttpError 404 when requesting https://www.googleapis.com/drive/v3/files/1evZdMhMwWGfgXiKHXFXytvOCE4PwSZZBt3XSGSIh-Rg?supportsAllDrives=true&alt=json returned \"File not found: 1evZdMhMwWGfgXiKHXFXytvOCE4PwSZZBt3XSGSIh-Rg.\". Details: \"[{'message': 'File not found: 1evZdMhMwWGfgXiKHXFXytvOCE4PwSZZBt3XSGSIh-Rg.', 'domain': 'global', 'reason': 'notFound', 'location': 'fileId', 'locationType': 'parameter'}]\">",
     "output_type": "error",
     "traceback": [
      "\u001b[0;31m---------------------------------------------------------------------------\u001b[0m",
      "\u001b[0;31mHttpError\u001b[0m                                 Traceback (most recent call last)",
      "Cell \u001b[0;32mIn[15], line 1\u001b[0m\n\u001b[0;32m----> 1\u001b[0m docs \u001b[39m=\u001b[39m loader\u001b[39m.\u001b[39;49mload()\n",
      "File \u001b[0;32m~/Documents/projects_coding/llm/env/lib/python3.9/site-packages/langchain/document_loaders/googledrive.py:353\u001b[0m, in \u001b[0;36mGoogleDriveLoader.load\u001b[0;34m(self)\u001b[0m\n\u001b[1;32m    351\u001b[0m     \u001b[39mreturn\u001b[39;00m \u001b[39mself\u001b[39m\u001b[39m.\u001b[39m_load_documents_from_ids()\n\u001b[1;32m    352\u001b[0m \u001b[39melse\u001b[39;00m:\n\u001b[0;32m--> 353\u001b[0m     \u001b[39mreturn\u001b[39;00m \u001b[39mself\u001b[39;49m\u001b[39m.\u001b[39;49m_load_file_from_ids()\n",
      "File \u001b[0;32m~/Documents/projects_coding/llm/env/lib/python3.9/site-packages/langchain/document_loaders/googledrive.py:341\u001b[0m, in \u001b[0;36mGoogleDriveLoader._load_file_from_ids\u001b[0;34m(self)\u001b[0m\n\u001b[1;32m    339\u001b[0m docs \u001b[39m=\u001b[39m []\n\u001b[1;32m    340\u001b[0m \u001b[39mfor\u001b[39;00m file_id \u001b[39min\u001b[39;00m \u001b[39mself\u001b[39m\u001b[39m.\u001b[39mfile_ids:\n\u001b[0;32m--> 341\u001b[0m     docs\u001b[39m.\u001b[39mextend(\u001b[39mself\u001b[39;49m\u001b[39m.\u001b[39;49m_load_file_from_id(file_id))\n\u001b[1;32m    342\u001b[0m \u001b[39mreturn\u001b[39;00m docs\n",
      "File \u001b[0;32m~/Documents/projects_coding/llm/env/lib/python3.9/site-packages/langchain/document_loaders/googledrive.py:301\u001b[0m, in \u001b[0;36mGoogleDriveLoader._load_file_from_id\u001b[0;34m(self, id)\u001b[0m\n\u001b[1;32m    298\u001b[0m creds \u001b[39m=\u001b[39m \u001b[39mself\u001b[39m\u001b[39m.\u001b[39m_load_credentials()\n\u001b[1;32m    299\u001b[0m service \u001b[39m=\u001b[39m build(\u001b[39m\"\u001b[39m\u001b[39mdrive\u001b[39m\u001b[39m\"\u001b[39m, \u001b[39m\"\u001b[39m\u001b[39mv3\u001b[39m\u001b[39m\"\u001b[39m, credentials\u001b[39m=\u001b[39mcreds)\n\u001b[0;32m--> 301\u001b[0m file \u001b[39m=\u001b[39m service\u001b[39m.\u001b[39;49mfiles()\u001b[39m.\u001b[39;49mget(fileId\u001b[39m=\u001b[39;49m\u001b[39mid\u001b[39;49m, supportsAllDrives\u001b[39m=\u001b[39;49m\u001b[39mTrue\u001b[39;49;00m)\u001b[39m.\u001b[39;49mexecute()\n\u001b[1;32m    302\u001b[0m request \u001b[39m=\u001b[39m service\u001b[39m.\u001b[39mfiles()\u001b[39m.\u001b[39mget_media(fileId\u001b[39m=\u001b[39m\u001b[39mid\u001b[39m)\n\u001b[1;32m    303\u001b[0m fh \u001b[39m=\u001b[39m BytesIO()\n",
      "File \u001b[0;32m~/Documents/projects_coding/llm/env/lib/python3.9/site-packages/googleapiclient/_helpers.py:130\u001b[0m, in \u001b[0;36mpositional.<locals>.positional_decorator.<locals>.positional_wrapper\u001b[0;34m(*args, **kwargs)\u001b[0m\n\u001b[1;32m    128\u001b[0m     \u001b[39melif\u001b[39;00m positional_parameters_enforcement \u001b[39m==\u001b[39m POSITIONAL_WARNING:\n\u001b[1;32m    129\u001b[0m         logger\u001b[39m.\u001b[39mwarning(message)\n\u001b[0;32m--> 130\u001b[0m \u001b[39mreturn\u001b[39;00m wrapped(\u001b[39m*\u001b[39;49margs, \u001b[39m*\u001b[39;49m\u001b[39m*\u001b[39;49mkwargs)\n",
      "File \u001b[0;32m~/Documents/projects_coding/llm/env/lib/python3.9/site-packages/googleapiclient/http.py:938\u001b[0m, in \u001b[0;36mHttpRequest.execute\u001b[0;34m(self, http, num_retries)\u001b[0m\n\u001b[1;32m    936\u001b[0m     callback(resp)\n\u001b[1;32m    937\u001b[0m \u001b[39mif\u001b[39;00m resp\u001b[39m.\u001b[39mstatus \u001b[39m>\u001b[39m\u001b[39m=\u001b[39m \u001b[39m300\u001b[39m:\n\u001b[0;32m--> 938\u001b[0m     \u001b[39mraise\u001b[39;00m HttpError(resp, content, uri\u001b[39m=\u001b[39m\u001b[39mself\u001b[39m\u001b[39m.\u001b[39muri)\n\u001b[1;32m    939\u001b[0m \u001b[39mreturn\u001b[39;00m \u001b[39mself\u001b[39m\u001b[39m.\u001b[39mpostproc(resp, content)\n",
      "\u001b[0;31mHttpError\u001b[0m: <HttpError 404 when requesting https://www.googleapis.com/drive/v3/files/1evZdMhMwWGfgXiKHXFXytvOCE4PwSZZBt3XSGSIh-Rg?supportsAllDrives=true&alt=json returned \"File not found: 1evZdMhMwWGfgXiKHXFXytvOCE4PwSZZBt3XSGSIh-Rg.\". Details: \"[{'message': 'File not found: 1evZdMhMwWGfgXiKHXFXytvOCE4PwSZZBt3XSGSIh-Rg.', 'domain': 'global', 'reason': 'notFound', 'location': 'fileId', 'locationType': 'parameter'}]\">"
     ]
    }
   ],
   "source": []
  },
  {
   "cell_type": "code",
   "execution_count": null,
   "metadata": {},
   "outputs": [],
   "source": []
  }
 ],
 "metadata": {
  "kernelspec": {
   "display_name": "env",
   "language": "python",
   "name": "python3"
  },
  "language_info": {
   "codemirror_mode": {
    "name": "ipython",
    "version": 3
   },
   "file_extension": ".py",
   "mimetype": "text/x-python",
   "name": "python",
   "nbconvert_exporter": "python",
   "pygments_lexer": "ipython3",
   "version": "3.9.16"
  },
  "orig_nbformat": 4
 },
 "nbformat": 4,
 "nbformat_minor": 2
}
